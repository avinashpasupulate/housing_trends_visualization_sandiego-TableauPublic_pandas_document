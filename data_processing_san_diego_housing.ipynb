{
 "cells": [
  {
   "cell_type": "markdown",
   "metadata": {},
   "source": [
    "<div style=\"background-color:#032866;height:60px;padding-top:7px\">\n",
    "<h2 align = 'center' style =\"color:white\">San Diego - Housing & Accomodation Data Processing</h2>\n",
    "</div>"
   ]
  },
  {
   "attachments": {},
   "cell_type": "markdown",
   "metadata": {},
   "source": [
    "<img src=\"https://psrs.com/wp-content/uploads/2014/09/san-diego-background.jpg\" \n",
    "alt=\"San Diego Background\" />\n"
   ]
  },
  {
   "cell_type": "markdown",
   "metadata": {},
   "source": [
    "<h4> Avinash Pasupulate</h4>\n",
    "<br>\n",
    "<i><a href = 'mailto:avinash.pasupulate@gmail.com'> avinash.pasupulate@gmail.com </a></i><br><br>\n",
    "<i><b><a href = 'https://github.com/avinashpasupulate'> GitHub Profile </a></b></i>\n",
    "<br>\n",
    "\n"
   ]
  },
  {
   "cell_type": "markdown",
   "metadata": {},
   "source": [
    "<h3>Tasks</h3> \n",
    " <ol>\n",
    "    <li>Explore data</li>\n",
    "    <li>Clean individual data sets</li>\n",
    "    <li>Transformation</li>\n",
    "    <li>Combining data sets where required</li>\n",
    "</ol>\n"
   ]
  },
  {
   "cell_type": "markdown",
   "metadata": {},
   "source": [
    "<h3>Future Tasks</h3>\n",
    "<ol>\n",
    "    <li>Quality control pending</li>\n",
    "    <ul>\n",
    "        <li>Tableau dashboards</li>\n",
    "        <li>Development Document</li>\n",
    "    </ul>\n",
    "    <br>\n",
    "    <li>Exploring external data sources (macro variables)</li>\n",
    "    <ul>\n",
    "        <li>Weather data (Humidity, Temperature)</li>\n",
    "        <li>Event / festivals related data</li>\n",
    "        <li>Comparing listings with hotels</li>\n",
    "    </ul>\n",
    "    <br>\n",
    "    <li>Mining for more information from the provided data</li>\n",
    "    <ul>\n",
    "        <li>Forecast listing price across relevant categories (use Tabpy package to integrate complex forecasting techniques)</li>\n",
    "        <li>Recommend listings to users based on past activity, if data is available</li>\n",
    "        <li>Process text data from space, reviews, host related information, listing information</li>\n",
    "        <ul>\n",
    "            <li>Extract entities from text data</li>\n",
    "            <li>Sentiment using nltk (vader) pakage on the reviews</li>\n",
    "        </ul>\n",
    "        <li>Using GIS data to get distance from prime locations</li>\n",
    "        <li>GIS to extract additional information using external data sources</li>\n",
    "    </ul>\n",
    "</ol>"
   ]
  },
  {
   "cell_type": "markdown",
   "metadata": {},
   "source": [
    "<h3>Importing data and making working Copies</h3>"
   ]
  },
  {
   "cell_type": "code",
   "execution_count": 71,
   "metadata": {},
   "outputs": [
    {
     "data": {
      "text/html": [
       "<script type=\"text/javascript\">window.PlotlyConfig = {MathJaxConfig: 'local'};</script><script type=\"text/javascript\">if (window.MathJax) {MathJax.Hub.Config({SVG: {font: \"STIX-Web\"}});}</script><script>requirejs.config({paths: { 'plotly': ['https://cdn.plot.ly/plotly-latest.min']},});if(!window._Plotly) {require(['plotly'],function(plotly) {window._Plotly=plotly;});}</script>"
      ],
      "text/vnd.plotly.v1+html": [
       "<script type=\"text/javascript\">window.PlotlyConfig = {MathJaxConfig: 'local'};</script><script type=\"text/javascript\">if (window.MathJax) {MathJax.Hub.Config({SVG: {font: \"STIX-Web\"}});}</script><script>requirejs.config({paths: { 'plotly': ['https://cdn.plot.ly/plotly-latest.min']},});if(!window._Plotly) {require(['plotly'],function(plotly) {window._Plotly=plotly;});}</script>"
      ]
     },
     "metadata": {},
     "output_type": "display_data"
    }
   ],
   "source": [
    "\n",
    "# importing required libraries\n",
    "import os\n",
    "import re\n",
    "import copy\n",
    "import pathlib\n",
    "import numpy as np\n",
    "import pandas as pd\n",
    "\n",
    "# offline plotting libraries\n",
    "from plotly import tools\n",
    "import plotly.graph_objs as go\n",
    "from plotly.offline import download_plotlyjs, iplot, plot, init_notebook_mode\n",
    "\n",
    "# setting up environmental variables\n",
    "init_notebook_mode(connected = True)\n",
    "cwd = os.getcwd()\n",
    "pd.set_option('display.max_columns', 100)"
   ]
  },
  {
   "cell_type": "code",
   "execution_count": 72,
   "metadata": {},
   "outputs": [
    {
     "data": {
      "text/plain": [
       "['aux_data',\n",
       " 'calendar.csv',\n",
       " 'listings.csv',\n",
       " 'neighbourhoods.csv',\n",
       " 'reviews.csv']"
      ]
     },
     "execution_count": 72,
     "metadata": {},
     "output_type": "execute_result"
    }
   ],
   "source": [
    "# listing raw data files & folders\n",
    "data = r'/airbnb_sample/'\n",
    "os.listdir(os.getcwd()+data)"
   ]
  },
  {
   "cell_type": "code",
   "execution_count": 73,
   "metadata": {},
   "outputs": [],
   "source": [
    "# importing raw_data\n",
    "listing = pd.read_csv(cwd+data+r'listings.csv')\n",
    "calendar = pd.read_csv(cwd+data+r'calendar.csv')\n",
    "neighbourhoods = pd.read_csv(cwd+data+r'neighbourhoods.csv')\n",
    "reviews = pd.read_csv(cwd+data+r'reviews.csv')"
   ]
  },
  {
   "cell_type": "code",
   "execution_count": 74,
   "metadata": {},
   "outputs": [],
   "source": [
    "# creating working copies\n",
    "# delete extra variables when done processing\n",
    "listcp = copy.deepcopy(listing)\n",
    "calcp = copy.deepcopy(calendar)\n",
    "neighcp = copy.deepcopy(neighbourhoods)\n",
    "revcp = copy.deepcopy(reviews)"
   ]
  },
  {
   "cell_type": "code",
   "execution_count": 75,
   "metadata": {},
   "outputs": [],
   "source": [
    "#listcp.describe(include = 'all')"
   ]
  },
  {
   "cell_type": "code",
   "execution_count": 76,
   "metadata": {},
   "outputs": [],
   "source": [
    "#calcp.describe(include = 'all')"
   ]
  },
  {
   "cell_type": "code",
   "execution_count": 77,
   "metadata": {},
   "outputs": [],
   "source": [
    "#neighcp.describe(include = 'all')"
   ]
  },
  {
   "cell_type": "code",
   "execution_count": 78,
   "metadata": {},
   "outputs": [],
   "source": [
    "#revcp.describe(include = 'all')"
   ]
  },
  {
   "cell_type": "markdown",
   "metadata": {},
   "source": [
    "<h3>Handling Missing (NA) Values</h3>"
   ]
  },
  {
   "cell_type": "markdown",
   "metadata": {},
   "source": [
    "Dropping columns with all na values from the data, NA values within columns can be handled based on discussion with the client"
   ]
  },
  {
   "cell_type": "code",
   "execution_count": 79,
   "metadata": {},
   "outputs": [],
   "source": [
    "calcp  = calcp.dropna(how = 'all', axis = 1)\n",
    "neighcp = neighcp.dropna(how = 'all', axis = 1)\n",
    "listcp = listcp.dropna(how = 'all', axis = 1)\n",
    "revcp = revcp.dropna(how = 'all', axis = 1)"
   ]
  },
  {
   "cell_type": "code",
   "execution_count": 80,
   "metadata": {},
   "outputs": [
    {
     "data": {
      "text/html": [
       "<div>\n",
       "<style scoped>\n",
       "    .dataframe tbody tr th:only-of-type {\n",
       "        vertical-align: middle;\n",
       "    }\n",
       "\n",
       "    .dataframe tbody tr th {\n",
       "        vertical-align: top;\n",
       "    }\n",
       "\n",
       "    .dataframe thead th {\n",
       "        text-align: right;\n",
       "    }\n",
       "</style>\n",
       "<table border=\"1\" class=\"dataframe\">\n",
       "  <thead>\n",
       "    <tr style=\"text-align: right;\">\n",
       "      <th></th>\n",
       "      <th>col_name</th>\n",
       "      <th>percent_na</th>\n",
       "    </tr>\n",
       "  </thead>\n",
       "  <tbody>\n",
       "    <tr>\n",
       "      <th>0</th>\n",
       "      <td>square_feet</td>\n",
       "      <td>99.0</td>\n",
       "    </tr>\n",
       "    <tr>\n",
       "      <th>1</th>\n",
       "      <td>host_response_time</td>\n",
       "      <td>34.0</td>\n",
       "    </tr>\n",
       "    <tr>\n",
       "      <th>2</th>\n",
       "      <td>host_response_rate</td>\n",
       "      <td>34.0</td>\n",
       "    </tr>\n",
       "    <tr>\n",
       "      <th>3</th>\n",
       "      <td>space</td>\n",
       "      <td>27.0</td>\n",
       "    </tr>\n",
       "    <tr>\n",
       "      <th>4</th>\n",
       "      <td>review_scores_rating</td>\n",
       "      <td>19.0</td>\n",
       "    </tr>\n",
       "    <tr>\n",
       "      <th>5</th>\n",
       "      <td>review_scores_cleanliness</td>\n",
       "      <td>19.0</td>\n",
       "    </tr>\n",
       "    <tr>\n",
       "      <th>6</th>\n",
       "      <td>review_scores_accuracy</td>\n",
       "      <td>19.0</td>\n",
       "    </tr>\n",
       "    <tr>\n",
       "      <th>7</th>\n",
       "      <td>review_scores_value</td>\n",
       "      <td>19.0</td>\n",
       "    </tr>\n",
       "    <tr>\n",
       "      <th>8</th>\n",
       "      <td>review_scores_location</td>\n",
       "      <td>19.0</td>\n",
       "    </tr>\n",
       "    <tr>\n",
       "      <th>9</th>\n",
       "      <td>review_scores_communication</td>\n",
       "      <td>19.0</td>\n",
       "    </tr>\n",
       "  </tbody>\n",
       "</table>\n",
       "</div>"
      ],
      "text/plain": [
       "                      col_name  percent_na\n",
       "0                  square_feet        99.0\n",
       "1           host_response_time        34.0\n",
       "2           host_response_rate        34.0\n",
       "3                        space        27.0\n",
       "4         review_scores_rating        19.0\n",
       "5    review_scores_cleanliness        19.0\n",
       "6       review_scores_accuracy        19.0\n",
       "7          review_scores_value        19.0\n",
       "8       review_scores_location        19.0\n",
       "9  review_scores_communication        19.0"
      ]
     },
     "execution_count": 80,
     "metadata": {},
     "output_type": "execute_result"
    }
   ],
   "source": [
    "l = list()\n",
    "for i in listext.columns:\n",
    "    l.append([i, round(listext[i].isnull().sum()/len(listext[i])*100,0)])\n",
    "l = pd.DataFrame(l)\n",
    "l.columns = ['col_name', 'percent_na']\n",
    "l.sort_values('percent_na', ascending = False).reset_index(drop = True).head(10)"
   ]
  },
  {
   "cell_type": "markdown",
   "metadata": {},
   "source": [
    "<br><br>\n",
    "Some of the columns have a large amount of missing values, \n",
    "so keep them as is as dropping them or changing these values may affect the results to a significant margin.\n",
    "<br><br>\n",
    "\"square_feet\" which can be an important variable cannot be used since nearly 99% of the information is missing and will lead to mis-information if used.\n",
    "<br><br>\n",
    "Creating a subset of variables which are used in building the visualization product, additional variables would be used on additional exploration and initial feedback from client.\n",
    "<br><br>"
   ]
  },
  {
   "cell_type": "code",
   "execution_count": 95,
   "metadata": {},
   "outputs": [
    {
     "data": {
      "text/plain": [
       "Index(['id', 'listing_url', 'scrape_id', 'last_scraped', 'name', 'summary',\n",
       "       'space', 'description', 'experiences_offered', 'neighborhood_overview',\n",
       "       'notes', 'transit', 'access', 'interaction', 'house_rules',\n",
       "       'picture_url', 'host_id', 'host_url', 'host_name', 'host_since',\n",
       "       'host_location', 'host_about', 'host_response_time',\n",
       "       'host_response_rate', 'host_is_superhost', 'host_thumbnail_url',\n",
       "       'host_picture_url', 'host_neighbourhood', 'host_listings_count',\n",
       "       'host_total_listings_count', 'host_verifications',\n",
       "       'host_has_profile_pic', 'host_identity_verified', 'street',\n",
       "       'neighbourhood', 'neighbourhood_cleansed', 'city', 'state', 'zipcode',\n",
       "       'market', 'smart_location', 'country_code', 'country', 'latitude',\n",
       "       'longitude', 'is_location_exact', 'property_type', 'room_type',\n",
       "       'accommodates', 'bathrooms', 'bedrooms', 'beds', 'bed_type',\n",
       "       'amenities', 'square_feet', 'price', 'weekly_price', 'monthly_price',\n",
       "       'security_deposit', 'cleaning_fee', 'guests_included', 'extra_people',\n",
       "       'minimum_nights', 'maximum_nights', 'calendar_updated',\n",
       "       'has_availability', 'availability_30', 'availability_60',\n",
       "       'availability_90', 'availability_365', 'calendar_last_scraped',\n",
       "       'number_of_reviews', 'first_review', 'last_review',\n",
       "       'review_scores_rating', 'review_scores_accuracy',\n",
       "       'review_scores_cleanliness', 'review_scores_checkin',\n",
       "       'review_scores_communication', 'review_scores_location',\n",
       "       'review_scores_value', 'requires_license', 'license',\n",
       "       'jurisdiction_names', 'instant_bookable', 'is_business_travel_ready',\n",
       "       'cancellation_policy', 'require_guest_profile_picture',\n",
       "       'require_guest_phone_verification', 'calculated_host_listings_count',\n",
       "       'reviews_per_month'],\n",
       "      dtype='object')"
      ]
     },
     "execution_count": 95,
     "metadata": {},
     "output_type": "execute_result"
    }
   ],
   "source": [
    "listcp.columns"
   ]
  },
  {
   "cell_type": "code",
   "execution_count": 81,
   "metadata": {},
   "outputs": [],
   "source": [
    "listext = listcp[['id', 'listing_url', 'name', 'space', 'host_id', 'host_url', 'host_name', 'host_since',\n",
    "                'host_response_time', 'host_response_rate', 'host_is_superhost', 'host_thumbnail_url',\n",
    "                'host_total_listings_count', 'neighbourhood', 'neighbourhood_cleansed', 'city', 'state', 'zipcode', 'market',\n",
    "                'smart_location', 'country_code', 'country', 'latitude', 'longitude', 'property_type', 'room_type', 'accommodates',\n",
    "                'bathrooms', 'bedrooms', 'beds', 'bed_type', 'amenities', 'square_feet', 'price', 'calendar_updated',\n",
    "                'has_availability', 'availability_30', 'availability_60', 'availability_90', 'availability_365', 'number_of_reviews',\n",
    "                'review_scores_rating', 'review_scores_accuracy', 'review_scores_cleanliness', 'review_scores_checkin',\n",
    "                'review_scores_communication', 'review_scores_location', 'review_scores_value', 'cancellation_policy', \n",
    "                'calculated_host_listings_count', 'reviews_per_month']]"
   ]
  },
  {
   "cell_type": "markdown",
   "metadata": {},
   "source": [
    "<br>\n",
    "<ul>\n",
    "    <li>Since listing id is used for all joins removing NA values to balance data, although these values can be deduced using other host and listing information</li>\n",
    "    <li>Not removing NA values in other variables to reduce risk of losing more information.</li>\n",
    "    <li>Imputation could be done, but the client decides on handling NA values in real time projects</li>\n",
    "</ul>\n",
    "<br>"
   ]
  },
  {
   "cell_type": "code",
   "execution_count": 82,
   "metadata": {},
   "outputs": [],
   "source": [
    "listext = listext.loc[~listext['id'].isnull()]"
   ]
  },
  {
   "cell_type": "markdown",
   "metadata": {},
   "source": [
    "<h3>Cleaning Up Categorical Variables</h3>"
   ]
  },
  {
   "cell_type": "markdown",
   "metadata": {},
   "source": [
    "<br>\n",
    "Cleaning up categorical variables, mapping is done for values in script to generate input dataset, this can be updated during QC of subsequent updates if additional values are included\n",
    "<br>"
   ]
  },
  {
   "cell_type": "code",
   "execution_count": 83,
   "metadata": {},
   "outputs": [],
   "source": [
    "# standardized similar values with regex and text functions\n",
    "# this is not currently required since we have a 'neighbourhood_cleansed' variable to use\n",
    "listext['neighbourhood'] = listext['neighbourhood'].apply(lambda x: re.sub('\\s+', ' ', str(x).lower().strip().title()))"
   ]
  },
  {
   "cell_type": "code",
   "execution_count": 84,
   "metadata": {},
   "outputs": [],
   "source": [
    "listext['city'] = listext['city'].apply(lambda x: re.sub('\\s+', ' ', str(x).lower().strip().title()))"
   ]
  },
  {
   "cell_type": "code",
   "execution_count": 85,
   "metadata": {},
   "outputs": [],
   "source": [
    "city_map = {'Chula Vista (Eastlake)': 'Chula Vista', 'Chula Vista,': 'Chula Vista', 'La Jolla': 'La Jolla',\n",
    "            'La Jolla, San Diego':'La Jolla', 'Ocean Beach, San Diego': 'Ocean Beach',\n",
    "            'San Diego, Ca, United States': 'San Diego', 'San Diego, California, Us': 'San Diego',\n",
    "            'Sandiego': 'San Diego', 'Ca': 'California', 'سان دييغو': 'San Diego'}\n",
    "\n",
    "#'سان دييغو' in arabic translates to 'San Diego'\n",
    "\n",
    "listext['city'] = listext['city'].replace(city_map)"
   ]
  },
  {
   "cell_type": "code",
   "execution_count": 86,
   "metadata": {},
   "outputs": [],
   "source": [
    "state_map = {'CA': 'California', 'Ca': 'California', 'B.C.': 'Baja California'}\n",
    "listext['state'] = listext['state'].replace(state_map)"
   ]
  },
  {
   "cell_type": "code",
   "execution_count": 87,
   "metadata": {},
   "outputs": [],
   "source": [
    "listext['smart_location'] = listext['smart_location'].apply(lambda x: re.sub('\\s+', ' ', str(x).lower().strip().title()))"
   ]
  },
  {
   "cell_type": "code",
   "execution_count": 88,
   "metadata": {},
   "outputs": [],
   "source": [
    "loc_map = {'Chula Vista , Ca': 'Chula Vista, Ca', 'Chula Vista,, Ca': 'Chula Vista, Ca', 'La Jolla , Ca': 'La Jolla, Ca',\n",
    "           'La Jolla, San Diego, Ca': 'La Jolla, Ca', 'Ocean Beach, San Diego, Ca': 'Ocean Beach, Ca', 'San Diego': 'San Diego, Ca',\n",
    "           'San Diego , Ca': 'San Diego, Ca', 'San Diego, Ca, United States, Ca': 'San Diego, Ca',\n",
    "           'San Diego, California, Us, Ca': 'San Diego, Ca', 'Pacific Beach , Ca': 'Pacific Beach, Ca',\n",
    "           'Sandiego, Ca' :'San Diego, Ca', 'سان دييغو, Ca': 'San Diego, Ca'}"
   ]
  },
  {
   "cell_type": "code",
   "execution_count": 89,
   "metadata": {},
   "outputs": [],
   "source": [
    "listext['smart_location'] = listext['smart_location'].replace(loc_map)"
   ]
  },
  {
   "cell_type": "code",
   "execution_count": 90,
   "metadata": {},
   "outputs": [
    {
     "data": {
      "text/plain": [
       "Series([], Name: neighbourhood_cleansed, dtype: object)"
      ]
     },
     "execution_count": 90,
     "metadata": {},
     "output_type": "execute_result"
    }
   ],
   "source": [
    "#checking if there are any neighbourhoods from listing not in the neighbourhood master\n",
    "listext['neighbourhood_cleansed'].loc[~listext['neighbourhood_cleansed'].isin(neighcp['neighbourhood'])]"
   ]
  },
  {
   "cell_type": "code",
   "execution_count": 91,
   "metadata": {},
   "outputs": [
    {
     "data": {
      "text/plain": [
       "Series([], Name: neighbourhood, dtype: object)"
      ]
     },
     "execution_count": 91,
     "metadata": {},
     "output_type": "execute_result"
    }
   ],
   "source": [
    "# all entries in \"neighbourhood\" column are found in \"neighbourhood_cleansed\" column\n",
    "listext['neighbourhood'].loc[(listext['neighbourhood_cleansed'].isnull())]"
   ]
  },
  {
   "cell_type": "markdown",
   "metadata": {},
   "source": [
    "<br><br>\n",
    "From a brief observation of the data frames, there are not many categoical variables. So these may not need further cleaning for now.\n",
    "<br><br>"
   ]
  },
  {
   "cell_type": "markdown",
   "metadata": {},
   "source": [
    "<h3>Joining Data Frames</h3>"
   ]
  },
  {
   "attachments": {},
   "cell_type": "markdown",
   "metadata": {},
   "source": [
    "A many to many relationship needs to be created to join across multiple data sources using a unique table in between. Joining tables creates duplicate values which need to be handled. \n",
    "\n",
    "\n",
    "Power Bi with power query handles transforming and joining tables rather elegantly in comparison to tableau.\n",
    "\n",
    "<a href=\"https://ibb.co/hsSKrKj\"><img src=\"https://i.ibb.co/F6FBcBM/er-relation.png\" alt=\"er-relation\" border=\"0\"></a><br />"
   ]
  },
  {
   "cell_type": "markdown",
   "metadata": {},
   "source": [
    "<h3>Exporting Transformed Dataframes</h3>"
   ]
  },
  {
   "cell_type": "code",
   "execution_count": 92,
   "metadata": {},
   "outputs": [],
   "source": [
    "#os.mkdir('transformed')"
   ]
  },
  {
   "cell_type": "code",
   "execution_count": 93,
   "metadata": {},
   "outputs": [],
   "source": [
    "listext.to_csv(cwd+r'/transformed/listing.csv')\n",
    "neighcp.to_csv(cwd+r'/transformed/neighbourhood.csv')\n",
    "revcp.to_csv(cwd+r'/transformed/reviews.csv')\n",
    "calcp.to_csv(cwd+r'/transformed/calendar.csv')"
   ]
  },
  {
   "cell_type": "code",
   "execution_count": 99,
   "metadata": {},
   "outputs": [
    {
     "data": {
      "text/html": [
       "<div class='tableauPlaceholder' id='viz1552854625503' style='position: relative'><noscript><a href='#'><img alt=' ' src='https:&#47;&#47;public.tableau.com&#47;static&#47;images&#47;sa&#47;san_diego-accom_list_13319&#47;SanDiegoAccomodationHousing&#47;1_rss.png' style='border: none' /></a></noscript><object class='tableauViz'  style='display:none;'><param name='host_url' value='https%3A%2F%2Fpublic.tableau.com%2F' /> <param name='embed_code_version' value='3' /> <param name='path' value='views&#47;san_diego-accom_list_13319&#47;SanDiegoAccomodationHousing?:embed=y&amp;:display_count=y&amp;publish=yes' /> <param name='toolbar' value='yes' /><param name='static_image' value='https:&#47;&#47;public.tableau.com&#47;static&#47;images&#47;sa&#47;san_diego-accom_list_13319&#47;SanDiegoAccomodationHousing&#47;1.png' /> <param name='animate_transition' value='yes' /><param name='display_static_image' value='yes' /><param name='display_spinner' value='yes' /><param name='display_overlay' value='yes' /><param name='display_count' value='yes' /></object></div>                <script type='text/javascript'>                    var divElement = document.getElementById('viz1552854625503');                    var vizElement = divElement.getElementsByTagName('object')[0];                    vizElement.style.width='1600px';vizElement.style.height='927px';                    var scriptElement = document.createElement('script');                    scriptElement.src = 'https://public.tableau.com/javascripts/api/viz_v1.js';                    vizElement.parentNode.insertBefore(scriptElement, vizElement);                </script>\n"
      ],
      "text/plain": [
       "<IPython.core.display.HTML object>"
      ]
     },
     "metadata": {},
     "output_type": "display_data"
    }
   ],
   "source": [
    "%%HTML\n",
    "<div class='tableauPlaceholder' id='viz1552854625503' style='position: relative'><noscript><a href='#'><img alt=' ' src='https:&#47;&#47;public.tableau.com&#47;static&#47;images&#47;sa&#47;san_diego-accom_list_13319&#47;SanDiegoAccomodationHousing&#47;1_rss.png' style='border: none' /></a></noscript><object class='tableauViz'  style='display:none;'><param name='host_url' value='https%3A%2F%2Fpublic.tableau.com%2F' /> <param name='embed_code_version' value='3' /> <param name='path' value='views&#47;san_diego-accom_list_13319&#47;SanDiegoAccomodationHousing?:embed=y&amp;:display_count=y&amp;publish=yes' /> <param name='toolbar' value='yes' /><param name='static_image' value='https:&#47;&#47;public.tableau.com&#47;static&#47;images&#47;sa&#47;san_diego-accom_list_13319&#47;SanDiegoAccomodationHousing&#47;1.png' /> <param name='animate_transition' value='yes' /><param name='display_static_image' value='yes' /><param name='display_spinner' value='yes' /><param name='display_overlay' value='yes' /><param name='display_count' value='yes' /></object></div>                <script type='text/javascript'>                    var divElement = document.getElementById('viz1552854625503');                    var vizElement = divElement.getElementsByTagName('object')[0];                    vizElement.style.width='1600px';vizElement.style.height='927px';                    var scriptElement = document.createElement('script');                    scriptElement.src = 'https://public.tableau.com/javascripts/api/viz_v1.js';                    vizElement.parentNode.insertBefore(scriptElement, vizElement);                </script>"
   ]
  },
  {
   "cell_type": "code",
   "execution_count": 94,
   "metadata": {},
   "outputs": [
    {
     "name": "stdout",
     "output_type": "stream",
     "text": [
      "calcp\t calendar\t city_map\t copy\t cwd\t data\t download_plotlyjs\t go\t i\t \n",
      "init_notebook_mode\t iplot\t l\t listcp\t listext\t listing\t loc_map\t merged\t neighbourhoods\t \n",
      "neighcp\t np\t os\t pathlib\t pd\t plot\t re\t revcp\t reviews\t \n",
      "state_map\t tools\t \n"
     ]
    }
   ],
   "source": [
    "#clear un-used variables to reduce memory footprint\n",
    "%who"
   ]
  }
 ],
 "metadata": {
  "kernelspec": {
   "display_name": "Python 3",
   "language": "python",
   "name": "python3"
  },
  "language_info": {
   "codemirror_mode": {
    "name": "ipython",
    "version": 3
   },
   "file_extension": ".py",
   "mimetype": "text/x-python",
   "name": "python",
   "nbconvert_exporter": "python",
   "pygments_lexer": "ipython3",
   "version": "3.6.7"
  }
 },
 "nbformat": 4,
 "nbformat_minor": 2
}
